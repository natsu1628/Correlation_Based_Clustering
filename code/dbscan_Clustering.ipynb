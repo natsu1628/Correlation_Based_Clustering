{
 "cells": [
  {
   "cell_type": "code",
   "execution_count": 1,
   "metadata": {},
   "outputs": [],
   "source": [
    "import os\n",
    "import math\n",
    "import pandas as pd\n",
    "import numpy as np\n",
    "from sklearn.cluster import DBSCAN"
   ]
  },
  {
   "cell_type": "code",
   "execution_count": 20,
   "metadata": {},
   "outputs": [],
   "source": [
    "def process_data(n=50):\n",
    "    data_path = \"./data\"\n",
    "    stock_data_df = pd.read_pickle(os.path.join(data_path, 'stock_data_3year.pkl'))\n",
    "    stock_data_df = (stock_data_df['Close'] - stock_data_df['Open'])/stock_data_df['Open']\n",
    "\n",
    "    # calculate percentage change\n",
    "#     stock_data_df = stock_data_df.pct_change()\n",
    "    \n",
    "    # calculate correlation matrix using percentage change\n",
    "    stock_data_corr = stock_data_df.corr()\n",
    "    \n",
    "    # adding mean in the NaN values\n",
    "    stock_data_corr.fillna(value=0, inplace=True)\n",
    "\n",
    "    # get correlation matrix of 100 stock data\n",
    "    stock_data_corr = stock_data_corr.iloc[0:n, 0:n]\n",
    "    return stock_data_corr\n",
    "\n",
    "def dist(x):\n",
    "    return math.sqrt(2*(1-x))"
   ]
  },
  {
   "cell_type": "code",
   "execution_count": 22,
   "metadata": {},
   "outputs": [],
   "source": [
    "def dbscan_cluster(stock_corr, eps):\n",
    "    distance_mtx = stock_corr.applymap(lambda x: math.sqrt(2*(1 - x)))\n",
    "    # get the stock labels\n",
    "    clusters_dbscan = DBSCAN(eps=eps).fit(distance_mtx)\n",
    "    return clusters_dbscan.labels_"
   ]
  },
  {
   "cell_type": "code",
   "execution_count": 38,
   "metadata": {},
   "outputs": [],
   "source": [
    "def main(n=50, eps=1.8):\n",
    "    stock_corr_data = process_data(n)\n",
    "    # get the stock labels\n",
    "    labels = dbscan_cluster(stock_corr_data, eps)\n",
    "    label_set = set(labels)\n",
    "    print(\"Number of clusters: {}\".format(len(label_set)))\n",
    "    for x in label_set:\n",
    "        print(\"Label: {}, Cluster size: {}\".format(x, np.count_nonzero(labels==x)))\n",
    "    return label_set, labels"
   ]
  },
  {
   "cell_type": "code",
   "execution_count": 47,
   "metadata": {},
   "outputs": [
    {
     "name": "stdout",
     "output_type": "stream",
     "text": [
      "Number of clusters: 16\n",
      "Label: 0, Cluster size: 12\n",
      "Label: 1, Cluster size: 55\n",
      "Label: 2, Cluster size: 91\n",
      "Label: 3, Cluster size: 24\n",
      "Label: 4, Cluster size: 13\n",
      "Label: 5, Cluster size: 5\n",
      "Label: 6, Cluster size: 5\n",
      "Label: 7, Cluster size: 7\n",
      "Label: 8, Cluster size: 18\n",
      "Label: 9, Cluster size: 6\n",
      "Label: 10, Cluster size: 8\n",
      "Label: 11, Cluster size: 5\n",
      "Label: 12, Cluster size: 6\n",
      "Label: 13, Cluster size: 6\n",
      "Label: 14, Cluster size: 5\n",
      "Label: -1, Cluster size: 234\n"
     ]
    }
   ],
   "source": [
    "label_set, labels = main(500, 1.8)"
   ]
  },
  {
   "cell_type": "code",
   "execution_count": 48,
   "metadata": {},
   "outputs": [],
   "source": [
    "cluster = dict()\n",
    "labels_list = list(labels)\n",
    "for x in label_set:\n",
    "    c_set = list()\n",
    "    for i in range(len(labels_list)):\n",
    "        if labels_list[i] == x:\n",
    "            c_set.append(i)\n",
    "    cluster[x] = c_set"
   ]
  },
  {
   "cell_type": "code",
   "execution_count": 52,
   "metadata": {},
   "outputs": [
    {
     "name": "stdout",
     "output_type": "stream",
     "text": [
      "Cluster: 0 has 0 negative edges\n",
      "Cluster: 1 has 18 negative edges\n",
      "Cluster: 2 has 47 negative edges\n",
      "Cluster: 3 has 2 negative edges\n",
      "Cluster: 4 has 0 negative edges\n",
      "Cluster: 5 has 0 negative edges\n",
      "Cluster: 6 has 0 negative edges\n",
      "Cluster: 7 has 0 negative edges\n",
      "Cluster: 8 has 1 negative edges\n",
      "Cluster: 9 has 0 negative edges\n",
      "Cluster: 10 has 0 negative edges\n",
      "Cluster: 11 has 0 negative edges\n",
      "Cluster: 12 has 0 negative edges\n",
      "Cluster: 13 has 0 negative edges\n",
      "Cluster: 14 has 0 negative edges\n",
      "Cluster: -1 has 454 negative edges\n",
      "Total negative edges: 522\n"
     ]
    }
   ],
   "source": [
    "stock_corr = process_data(500)\n",
    "# negative edges inside cluster\n",
    "negative_edge_tot = 0\n",
    "for c,v in cluster.items():\n",
    "    negative_edge = 0\n",
    "    for i in range(len(v)):\n",
    "        for j in range(i+1, len(v)):\n",
    "            if stock_corr.iloc[i,j] < 0:\n",
    "                negative_edge += 1\n",
    "    negative_edge_tot += negative_edge\n",
    "    print(\"Cluster: {} has {} negative edges\".format(c, negative_edge))\n",
    "print(\"Total negative edges: {}\".format(negative_edge_tot))"
   ]
  },
  {
   "cell_type": "code",
   "execution_count": 50,
   "metadata": {},
   "outputs": [
    {
     "name": "stdout",
     "output_type": "stream",
     "text": [
      "Cluster: 0 has 66 positive edges\n",
      "Cluster: 1 has 1467 positive edges\n",
      "Cluster: 2 has 4048 positive edges\n",
      "Cluster: 3 has 274 positive edges\n",
      "Cluster: 4 has 78 positive edges\n",
      "Cluster: 5 has 10 positive edges\n",
      "Cluster: 6 has 10 positive edges\n",
      "Cluster: 7 has 21 positive edges\n",
      "Cluster: 8 has 152 positive edges\n",
      "Cluster: 9 has 15 positive edges\n",
      "Cluster: 10 has 28 positive edges\n",
      "Cluster: 11 has 10 positive edges\n",
      "Cluster: 12 has 15 positive edges\n",
      "Cluster: 13 has 15 positive edges\n",
      "Cluster: 14 has 10 positive edges\n",
      "Cluster: -1 has 26807 positive edges\n",
      "Total positive edges: 33026\n"
     ]
    }
   ],
   "source": [
    "stock_corr = process_data(500)\n",
    "# positive edges inside cluster\n",
    "positive_edge_tot = 0\n",
    "for c,v in cluster.items():\n",
    "    positive_edge = 0\n",
    "    for i in range(len(v)):\n",
    "        for j in range(i+1, len(v)):\n",
    "            if stock_corr.iloc[i,j] >= 0:\n",
    "                positive_edge += 1\n",
    "    positive_edge_tot += positive_edge\n",
    "    print(\"Cluster: {} has {} positive edges\".format(c, positive_edge))\n",
    "print(\"Total positive edges: {}\".format(positive_edge_tot))"
   ]
  }
 ],
 "metadata": {
  "kernelspec": {
   "display_name": "Python 3",
   "language": "python",
   "name": "python3"
  },
  "language_info": {
   "codemirror_mode": {
    "name": "ipython",
    "version": 3
   },
   "file_extension": ".py",
   "mimetype": "text/x-python",
   "name": "python",
   "nbconvert_exporter": "python",
   "pygments_lexer": "ipython3",
   "version": "3.8.3"
  }
 },
 "nbformat": 4,
 "nbformat_minor": 4
}
