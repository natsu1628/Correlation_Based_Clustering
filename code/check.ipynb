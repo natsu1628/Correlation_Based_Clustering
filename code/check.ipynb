{
 "cells": [
  {
   "cell_type": "code",
   "execution_count": 1,
   "metadata": {},
   "outputs": [],
   "source": [
    "data_path = \"./data\""
   ]
  },
  {
   "cell_type": "code",
   "execution_count": 19,
   "metadata": {},
   "outputs": [],
   "source": [
    "import pandas as pd\n",
    "import numpy as np\n",
    "import seaborn as sns\n",
    "import matplotlib.pyplot as plt\n",
    "from datetime import datetime\n",
    "import os"
   ]
  },
  {
   "cell_type": "code",
   "execution_count": 260,
   "metadata": {},
   "outputs": [],
   "source": [
    "stock_data_df = pd.read_pickle(os.path.join(data_path, 'stock_data.pkl'))"
   ]
  },
  {
   "cell_type": "code",
   "execution_count": 96,
   "metadata": {},
   "outputs": [],
   "source": [
    "# for x in stock_data_df.columns:\n",
    "#     print(x, end=\",\")"
   ]
  },
  {
   "cell_type": "code",
   "execution_count": 261,
   "metadata": {},
   "outputs": [],
   "source": [
    "stock_data_df = stock_data_df['Adj Close']\n",
    "# stock_data_df = stock_data_df[list(stock_data_df.columns)[:100]]"
   ]
  },
  {
   "cell_type": "code",
   "execution_count": 241,
   "metadata": {},
   "outputs": [
    {
     "name": "stdout",
     "output_type": "stream",
     "text": [
      "A, AAL, AAP, AAPL, ABBV, ABC, ABMD, ABT, ACN, ADBE, ADI, ADM, ADP, ADSK, AEE, AEP, AES, AFL, AIG, AIZ, AJG, AKAM, ALB, ALGN, ALK, ALL, ALLE, AMAT, AMCR, AMD, AME, AMGN, AMP, AMT, AMZN, ANET, ANSS, ANTM, AON, AOS, APA, APD, APH, APTV, ARE, ATO, ATVI, AVB, AVGO, AVY, AWK, AXP, AZO, BA, BAC, BAX, BBWI, BBY, BDX, BEN, BF.B, BIIB, BIO, BK, BKNG, BKR, BLK, BLL, BMY, BR, BRK.B, BRO, BSX, BWA, BXP, C, CAG, CAH, CARR, CAT, CB, CBOE, CBRE, CCI, CCL, CDAY, CDNS, CDW, CE, CERN, CF, CFG, CHD, CHRW, CHTR, CI, CINF, CL, CLX, CMA, CMCSA, CME, CMG, CMI, CMS, CNC, CNP, COF, COO, COP, COST, CPB, CPRT, CRL, CRM, CSCO, CSX, CTAS, CTLT, CTRA, CTSH, CTVA, CTXS, CVS, CVX, CZR, D, DAL, DD, DE, DFS, DG, DGX, DHI, DHR, DIS, DISCA, DISCK, DISH, DLR, DLTR, DOV, DOW, DPZ, DRE, DRI, DTE, DUK, DVA, DVN, DXC, DXCM, EA, EBAY, ECL, ED, EFX, EIX, EL, EMN, EMR, ENPH, EOG, EQIX, EQR, ES, ESS, ETN, ETR, ETSY, EVRG, EW, EXC, EXPD, EXPE, EXR, F, FANG, FAST, FB, FBHS, FCX, FDX, FE, FFIV, FIS, FISV, FITB, FLT, FMC, FOX, FOXA, FRC, FRT, FTNT, FTV, GD, GE, GILD, GIS, GL, GLW, GM, GNRC, GOOG, GOOGL, GPC, GPN, GPS, GRMN, GS, GWW, HAL, HAS, HBAN, HBI, HCA, HD, HES, HIG, HII, HLT, HOLX, HON, HPE, HPQ, HRL, HSIC, HST, HSY, HUM, HWM, IBM, ICE, IDXX, IEX, IFF, ILMN, INCY, INFO, INTC, INTU, IP, IPG, IPGP, IQV, IR, IRM, ISRG, IT, ITW, IVZ, J, JBHT, JCI, JKHY, JNJ, JNPR, JPM, K, KEY, KEYS, KHC, KIM, KLAC, KMB, KMI, KMX, KO, KR, KSU, L, LDOS, LEG, LEN, LH, LHX, LIN, LKQ, LLY, LMT, LNC, LNT, LOW, LRCX, LUMN, LUV, LVS, LW, LYB, LYV, MA, MAA, MAR, MAS, MCD, MCHP, MCK, MCO, MDLZ, MDT, MET, MGM, MHK, MKC, MKTX, MLM, MMC, MMM, MNST, MO, MOS, MPC, MPWR, MRK, MRNA, MRO, MS, MSCI, MSFT, MSI, MTB, MTCH, MTD, MU, NCLH, NDAQ, NEE, NEM, NFLX, NI, NKE, NLOK, NLSN, NOC, NOW, NRG, NSC, NTAP, NTRS, NUE, NVDA, NVR, NWL, NWS, NWSA, NXPI, O, ODFL, OGN, OKE, OMC, ORCL, ORLY, OTIS, OXY, PAYC, PAYX, PBCT, PCAR, PEAK, PEG, PENN, PEP, PFE, PFG, PG, PGR, PH, PHM, PKG, PKI, PLD, PM, PNC, PNR, PNW, POOL, PPG, PPL, PRU, PSA, PSX, PTC, PVH, PWR, PXD, PYPL, QCOM, QRVO, RCL, RE, REG, REGN, RF, RHI, RJF, RL, RMD, ROK, ROL, ROP, ROST, RSG, RTX, SBAC, SBUX, SCHW, SEE, SHW, SIVB, SJM, SLB, SNA, SNPS, SO, SPG, SPGI, SRE, STE, STT, STX, STZ, SWK, SWKS, SYF, SYK, SYY, T, TAP, TDG, TDY, TECH, TEL, TER, TFC, TFX, TGT, TJX, TMO, TMUS, TPR, TRMB, TROW, TRV, TSCO, TSLA, TSN, TT, TTWO, TWTR, TXN, TXT, TYL, UA, UAA, UAL, UDR, UHS, ULTA, UNH, UNP, UPS, URI, USB, V, VFC, VIAC, VLO, VMC, VNO, VRSK, VRSN, VRTX, VTR, VTRS, VZ, WAB, WAT, WBA, WDC, WEC, WELL, WFC, WHR, WLTW, WM, WMB, WMT, WRB, WRK, WST, WU, WY, WYNN, XEL, XLNX, XOM, XRAY, XYL, YUM, ZBH, ZBRA, ZION, ZTS, "
     ]
    }
   ],
   "source": [
    "for x in stock_data_df.columns:\n",
    "    print(x, end=\", \")"
   ]
  },
  {
   "cell_type": "code",
   "execution_count": 242,
   "metadata": {},
   "outputs": [
    {
     "data": {
      "text/html": [
       "<div>\n",
       "<style scoped>\n",
       "    .dataframe tbody tr th:only-of-type {\n",
       "        vertical-align: middle;\n",
       "    }\n",
       "\n",
       "    .dataframe tbody tr th {\n",
       "        vertical-align: top;\n",
       "    }\n",
       "\n",
       "    .dataframe thead th {\n",
       "        text-align: right;\n",
       "    }\n",
       "</style>\n",
       "<table border=\"1\" class=\"dataframe\">\n",
       "  <thead>\n",
       "    <tr style=\"text-align: right;\">\n",
       "      <th></th>\n",
       "      <th>A</th>\n",
       "      <th>AAL</th>\n",
       "      <th>AAP</th>\n",
       "      <th>AAPL</th>\n",
       "      <th>ABBV</th>\n",
       "      <th>ABC</th>\n",
       "      <th>ABMD</th>\n",
       "      <th>ABT</th>\n",
       "      <th>ACN</th>\n",
       "      <th>ADBE</th>\n",
       "      <th>...</th>\n",
       "      <th>XEL</th>\n",
       "      <th>XLNX</th>\n",
       "      <th>XOM</th>\n",
       "      <th>XRAY</th>\n",
       "      <th>XYL</th>\n",
       "      <th>YUM</th>\n",
       "      <th>ZBH</th>\n",
       "      <th>ZBRA</th>\n",
       "      <th>ZION</th>\n",
       "      <th>ZTS</th>\n",
       "    </tr>\n",
       "    <tr>\n",
       "      <th>Date</th>\n",
       "      <th></th>\n",
       "      <th></th>\n",
       "      <th></th>\n",
       "      <th></th>\n",
       "      <th></th>\n",
       "      <th></th>\n",
       "      <th></th>\n",
       "      <th></th>\n",
       "      <th></th>\n",
       "      <th></th>\n",
       "      <th></th>\n",
       "      <th></th>\n",
       "      <th></th>\n",
       "      <th></th>\n",
       "      <th></th>\n",
       "      <th></th>\n",
       "      <th></th>\n",
       "      <th></th>\n",
       "      <th></th>\n",
       "      <th></th>\n",
       "      <th></th>\n",
       "    </tr>\n",
       "  </thead>\n",
       "  <tbody>\n",
       "    <tr>\n",
       "      <th>2021-10-01</th>\n",
       "      <td>155.796005</td>\n",
       "      <td>21.650000</td>\n",
       "      <td>208.000000</td>\n",
       "      <td>142.442108</td>\n",
       "      <td>107.783287</td>\n",
       "      <td>119.371521</td>\n",
       "      <td>323.329987</td>\n",
       "      <td>116.759193</td>\n",
       "      <td>323.898376</td>\n",
       "      <td>577.469971</td>\n",
       "      <td>...</td>\n",
       "      <td>62.490002</td>\n",
       "      <td>151.586395</td>\n",
       "      <td>60.122005</td>\n",
       "      <td>59.070000</td>\n",
       "      <td>121.036926</td>\n",
       "      <td>123.151649</td>\n",
       "      <td>149.470001</td>\n",
       "      <td>510.980011</td>\n",
       "      <td>63.279942</td>\n",
       "      <td>195.955978</td>\n",
       "    </tr>\n",
       "    <tr>\n",
       "      <th>2021-10-04</th>\n",
       "      <td>152.360001</td>\n",
       "      <td>21.389999</td>\n",
       "      <td>207.169998</td>\n",
       "      <td>138.937225</td>\n",
       "      <td>107.427605</td>\n",
       "      <td>117.896942</td>\n",
       "      <td>313.869995</td>\n",
       "      <td>115.085648</td>\n",
       "      <td>318.544281</td>\n",
       "      <td>558.489990</td>\n",
       "      <td>...</td>\n",
       "      <td>63.900002</td>\n",
       "      <td>147.743591</td>\n",
       "      <td>60.901531</td>\n",
       "      <td>57.630001</td>\n",
       "      <td>119.041260</td>\n",
       "      <td>122.554024</td>\n",
       "      <td>146.729996</td>\n",
       "      <td>502.320007</td>\n",
       "      <td>63.429070</td>\n",
       "      <td>193.458954</td>\n",
       "    </tr>\n",
       "    <tr>\n",
       "      <th>2021-10-05</th>\n",
       "      <td>153.029999</td>\n",
       "      <td>21.469999</td>\n",
       "      <td>209.020004</td>\n",
       "      <td>140.904358</td>\n",
       "      <td>108.198265</td>\n",
       "      <td>118.175911</td>\n",
       "      <td>332.470001</td>\n",
       "      <td>115.434303</td>\n",
       "      <td>324.157623</td>\n",
       "      <td>566.700012</td>\n",
       "      <td>...</td>\n",
       "      <td>63.299999</td>\n",
       "      <td>151.486603</td>\n",
       "      <td>60.802856</td>\n",
       "      <td>57.580002</td>\n",
       "      <td>122.204384</td>\n",
       "      <td>123.111809</td>\n",
       "      <td>146.009995</td>\n",
       "      <td>506.890015</td>\n",
       "      <td>63.091045</td>\n",
       "      <td>196.225662</td>\n",
       "    </tr>\n",
       "    <tr>\n",
       "      <th>2021-10-06</th>\n",
       "      <td>153.649994</td>\n",
       "      <td>20.540001</td>\n",
       "      <td>211.300003</td>\n",
       "      <td>141.793060</td>\n",
       "      <td>108.010536</td>\n",
       "      <td>116.472176</td>\n",
       "      <td>337.299988</td>\n",
       "      <td>116.041954</td>\n",
       "      <td>324.227417</td>\n",
       "      <td>570.309998</td>\n",
       "      <td>...</td>\n",
       "      <td>64.330002</td>\n",
       "      <td>153.552719</td>\n",
       "      <td>59.687843</td>\n",
       "      <td>57.459999</td>\n",
       "      <td>121.984863</td>\n",
       "      <td>123.171577</td>\n",
       "      <td>146.339996</td>\n",
       "      <td>506.390015</td>\n",
       "      <td>62.434883</td>\n",
       "      <td>195.546463</td>\n",
       "    </tr>\n",
       "    <tr>\n",
       "      <th>2021-10-07</th>\n",
       "      <td>155.320007</td>\n",
       "      <td>20.170000</td>\n",
       "      <td>214.500000</td>\n",
       "      <td>143.081177</td>\n",
       "      <td>109.541969</td>\n",
       "      <td>118.136063</td>\n",
       "      <td>340.299988</td>\n",
       "      <td>117.456505</td>\n",
       "      <td>325.284271</td>\n",
       "      <td>578.960022</td>\n",
       "      <td>...</td>\n",
       "      <td>63.970001</td>\n",
       "      <td>157.774841</td>\n",
       "      <td>59.855587</td>\n",
       "      <td>58.000000</td>\n",
       "      <td>122.094620</td>\n",
       "      <td>124.725410</td>\n",
       "      <td>147.740005</td>\n",
       "      <td>504.410004</td>\n",
       "      <td>62.703312</td>\n",
       "      <td>198.772598</td>\n",
       "    </tr>\n",
       "  </tbody>\n",
       "</table>\n",
       "<p>5 rows × 505 columns</p>\n",
       "</div>"
      ],
      "text/plain": [
       "                     A        AAL         AAP        AAPL        ABBV  \\\n",
       "Date                                                                    \n",
       "2021-10-01  155.796005  21.650000  208.000000  142.442108  107.783287   \n",
       "2021-10-04  152.360001  21.389999  207.169998  138.937225  107.427605   \n",
       "2021-10-05  153.029999  21.469999  209.020004  140.904358  108.198265   \n",
       "2021-10-06  153.649994  20.540001  211.300003  141.793060  108.010536   \n",
       "2021-10-07  155.320007  20.170000  214.500000  143.081177  109.541969   \n",
       "\n",
       "                   ABC        ABMD         ABT         ACN        ADBE  ...  \\\n",
       "Date                                                                    ...   \n",
       "2021-10-01  119.371521  323.329987  116.759193  323.898376  577.469971  ...   \n",
       "2021-10-04  117.896942  313.869995  115.085648  318.544281  558.489990  ...   \n",
       "2021-10-05  118.175911  332.470001  115.434303  324.157623  566.700012  ...   \n",
       "2021-10-06  116.472176  337.299988  116.041954  324.227417  570.309998  ...   \n",
       "2021-10-07  118.136063  340.299988  117.456505  325.284271  578.960022  ...   \n",
       "\n",
       "                  XEL        XLNX        XOM       XRAY         XYL  \\\n",
       "Date                                                                  \n",
       "2021-10-01  62.490002  151.586395  60.122005  59.070000  121.036926   \n",
       "2021-10-04  63.900002  147.743591  60.901531  57.630001  119.041260   \n",
       "2021-10-05  63.299999  151.486603  60.802856  57.580002  122.204384   \n",
       "2021-10-06  64.330002  153.552719  59.687843  57.459999  121.984863   \n",
       "2021-10-07  63.970001  157.774841  59.855587  58.000000  122.094620   \n",
       "\n",
       "                   YUM         ZBH        ZBRA       ZION         ZTS  \n",
       "Date                                                                   \n",
       "2021-10-01  123.151649  149.470001  510.980011  63.279942  195.955978  \n",
       "2021-10-04  122.554024  146.729996  502.320007  63.429070  193.458954  \n",
       "2021-10-05  123.111809  146.009995  506.890015  63.091045  196.225662  \n",
       "2021-10-06  123.171577  146.339996  506.390015  62.434883  195.546463  \n",
       "2021-10-07  124.725410  147.740005  504.410004  62.703312  198.772598  \n",
       "\n",
       "[5 rows x 505 columns]"
      ]
     },
     "execution_count": 242,
     "metadata": {},
     "output_type": "execute_result"
    }
   ],
   "source": [
    "stock_data_df.head()"
   ]
  },
  {
   "cell_type": "code",
   "execution_count": 12,
   "metadata": {},
   "outputs": [],
   "source": [
    "stock_data_pct_change = stock_data_df.pct_change()"
   ]
  },
  {
   "cell_type": "code",
   "execution_count": 26,
   "metadata": {},
   "outputs": [],
   "source": [
    "stock_data_pct_change.to_csv(\"stock_data_pct_change.csv\", index=True)"
   ]
  },
  {
   "cell_type": "code",
   "execution_count": 14,
   "metadata": {},
   "outputs": [
    {
     "data": {
      "text/html": [
       "<div>\n",
       "<style scoped>\n",
       "    .dataframe tbody tr th:only-of-type {\n",
       "        vertical-align: middle;\n",
       "    }\n",
       "\n",
       "    .dataframe tbody tr th {\n",
       "        vertical-align: top;\n",
       "    }\n",
       "\n",
       "    .dataframe thead th {\n",
       "        text-align: right;\n",
       "    }\n",
       "</style>\n",
       "<table border=\"1\" class=\"dataframe\">\n",
       "  <thead>\n",
       "    <tr style=\"text-align: right;\">\n",
       "      <th></th>\n",
       "      <th>A</th>\n",
       "      <th>AAL</th>\n",
       "      <th>AAP</th>\n",
       "      <th>AAPL</th>\n",
       "      <th>ABBV</th>\n",
       "      <th>ABC</th>\n",
       "      <th>ABMD</th>\n",
       "      <th>ABT</th>\n",
       "      <th>ACN</th>\n",
       "      <th>ADBE</th>\n",
       "      <th>...</th>\n",
       "      <th>XEL</th>\n",
       "      <th>XLNX</th>\n",
       "      <th>XOM</th>\n",
       "      <th>XRAY</th>\n",
       "      <th>XYL</th>\n",
       "      <th>YUM</th>\n",
       "      <th>ZBH</th>\n",
       "      <th>ZBRA</th>\n",
       "      <th>ZION</th>\n",
       "      <th>ZTS</th>\n",
       "    </tr>\n",
       "    <tr>\n",
       "      <th>Date</th>\n",
       "      <th></th>\n",
       "      <th></th>\n",
       "      <th></th>\n",
       "      <th></th>\n",
       "      <th></th>\n",
       "      <th></th>\n",
       "      <th></th>\n",
       "      <th></th>\n",
       "      <th></th>\n",
       "      <th></th>\n",
       "      <th></th>\n",
       "      <th></th>\n",
       "      <th></th>\n",
       "      <th></th>\n",
       "      <th></th>\n",
       "      <th></th>\n",
       "      <th></th>\n",
       "      <th></th>\n",
       "      <th></th>\n",
       "      <th></th>\n",
       "      <th></th>\n",
       "    </tr>\n",
       "  </thead>\n",
       "  <tbody>\n",
       "    <tr>\n",
       "      <th>2021-10-01</th>\n",
       "      <td>NaN</td>\n",
       "      <td>NaN</td>\n",
       "      <td>NaN</td>\n",
       "      <td>NaN</td>\n",
       "      <td>NaN</td>\n",
       "      <td>NaN</td>\n",
       "      <td>NaN</td>\n",
       "      <td>NaN</td>\n",
       "      <td>NaN</td>\n",
       "      <td>NaN</td>\n",
       "      <td>...</td>\n",
       "      <td>NaN</td>\n",
       "      <td>NaN</td>\n",
       "      <td>NaN</td>\n",
       "      <td>NaN</td>\n",
       "      <td>NaN</td>\n",
       "      <td>NaN</td>\n",
       "      <td>NaN</td>\n",
       "      <td>NaN</td>\n",
       "      <td>NaN</td>\n",
       "      <td>NaN</td>\n",
       "    </tr>\n",
       "    <tr>\n",
       "      <th>2021-10-04</th>\n",
       "      <td>-0.022055</td>\n",
       "      <td>-0.012009</td>\n",
       "      <td>-0.003990</td>\n",
       "      <td>-0.024606</td>\n",
       "      <td>-0.003300</td>\n",
       "      <td>-0.012353</td>\n",
       "      <td>-0.029258</td>\n",
       "      <td>-0.014333</td>\n",
       "      <td>-0.016530</td>\n",
       "      <td>-0.032867</td>\n",
       "      <td>...</td>\n",
       "      <td>0.022564</td>\n",
       "      <td>-0.025351</td>\n",
       "      <td>0.012966</td>\n",
       "      <td>-0.024378</td>\n",
       "      <td>-0.016488</td>\n",
       "      <td>-0.004853</td>\n",
       "      <td>-0.018331</td>\n",
       "      <td>-0.016948</td>\n",
       "      <td>0.002357</td>\n",
       "      <td>-0.012743</td>\n",
       "    </tr>\n",
       "    <tr>\n",
       "      <th>2021-10-05</th>\n",
       "      <td>0.004397</td>\n",
       "      <td>0.003740</td>\n",
       "      <td>0.008930</td>\n",
       "      <td>0.014158</td>\n",
       "      <td>0.007174</td>\n",
       "      <td>0.002366</td>\n",
       "      <td>0.059260</td>\n",
       "      <td>0.003030</td>\n",
       "      <td>0.017622</td>\n",
       "      <td>0.014700</td>\n",
       "      <td>...</td>\n",
       "      <td>-0.009390</td>\n",
       "      <td>0.025335</td>\n",
       "      <td>-0.001620</td>\n",
       "      <td>-0.000868</td>\n",
       "      <td>0.026572</td>\n",
       "      <td>0.004551</td>\n",
       "      <td>-0.004907</td>\n",
       "      <td>0.009098</td>\n",
       "      <td>-0.005329</td>\n",
       "      <td>0.014301</td>\n",
       "    </tr>\n",
       "    <tr>\n",
       "      <th>2021-10-06</th>\n",
       "      <td>0.004051</td>\n",
       "      <td>-0.043316</td>\n",
       "      <td>0.010908</td>\n",
       "      <td>0.006307</td>\n",
       "      <td>-0.001735</td>\n",
       "      <td>-0.014417</td>\n",
       "      <td>0.014528</td>\n",
       "      <td>0.005264</td>\n",
       "      <td>0.000215</td>\n",
       "      <td>0.006370</td>\n",
       "      <td>...</td>\n",
       "      <td>0.016272</td>\n",
       "      <td>0.013639</td>\n",
       "      <td>-0.018338</td>\n",
       "      <td>-0.002084</td>\n",
       "      <td>-0.001796</td>\n",
       "      <td>0.000485</td>\n",
       "      <td>0.002260</td>\n",
       "      <td>-0.000986</td>\n",
       "      <td>-0.010400</td>\n",
       "      <td>-0.003461</td>\n",
       "    </tr>\n",
       "    <tr>\n",
       "      <th>2021-10-07</th>\n",
       "      <td>0.010869</td>\n",
       "      <td>-0.018014</td>\n",
       "      <td>0.015144</td>\n",
       "      <td>0.009084</td>\n",
       "      <td>0.014179</td>\n",
       "      <td>0.014286</td>\n",
       "      <td>0.008894</td>\n",
       "      <td>0.012190</td>\n",
       "      <td>0.003260</td>\n",
       "      <td>0.015167</td>\n",
       "      <td>...</td>\n",
       "      <td>-0.005596</td>\n",
       "      <td>0.027496</td>\n",
       "      <td>0.002810</td>\n",
       "      <td>0.009398</td>\n",
       "      <td>0.000900</td>\n",
       "      <td>0.012615</td>\n",
       "      <td>0.009567</td>\n",
       "      <td>-0.003910</td>\n",
       "      <td>0.004299</td>\n",
       "      <td>0.016498</td>\n",
       "    </tr>\n",
       "  </tbody>\n",
       "</table>\n",
       "<p>5 rows × 505 columns</p>\n",
       "</div>"
      ],
      "text/plain": [
       "                   A       AAL       AAP      AAPL      ABBV       ABC  \\\n",
       "Date                                                                     \n",
       "2021-10-01       NaN       NaN       NaN       NaN       NaN       NaN   \n",
       "2021-10-04 -0.022055 -0.012009 -0.003990 -0.024606 -0.003300 -0.012353   \n",
       "2021-10-05  0.004397  0.003740  0.008930  0.014158  0.007174  0.002366   \n",
       "2021-10-06  0.004051 -0.043316  0.010908  0.006307 -0.001735 -0.014417   \n",
       "2021-10-07  0.010869 -0.018014  0.015144  0.009084  0.014179  0.014286   \n",
       "\n",
       "                ABMD       ABT       ACN      ADBE  ...       XEL      XLNX  \\\n",
       "Date                                                ...                       \n",
       "2021-10-01       NaN       NaN       NaN       NaN  ...       NaN       NaN   \n",
       "2021-10-04 -0.029258 -0.014333 -0.016530 -0.032867  ...  0.022564 -0.025351   \n",
       "2021-10-05  0.059260  0.003030  0.017622  0.014700  ... -0.009390  0.025335   \n",
       "2021-10-06  0.014528  0.005264  0.000215  0.006370  ...  0.016272  0.013639   \n",
       "2021-10-07  0.008894  0.012190  0.003260  0.015167  ... -0.005596  0.027496   \n",
       "\n",
       "                 XOM      XRAY       XYL       YUM       ZBH      ZBRA  \\\n",
       "Date                                                                     \n",
       "2021-10-01       NaN       NaN       NaN       NaN       NaN       NaN   \n",
       "2021-10-04  0.012966 -0.024378 -0.016488 -0.004853 -0.018331 -0.016948   \n",
       "2021-10-05 -0.001620 -0.000868  0.026572  0.004551 -0.004907  0.009098   \n",
       "2021-10-06 -0.018338 -0.002084 -0.001796  0.000485  0.002260 -0.000986   \n",
       "2021-10-07  0.002810  0.009398  0.000900  0.012615  0.009567 -0.003910   \n",
       "\n",
       "                ZION       ZTS  \n",
       "Date                            \n",
       "2021-10-01       NaN       NaN  \n",
       "2021-10-04  0.002357 -0.012743  \n",
       "2021-10-05 -0.005329  0.014301  \n",
       "2021-10-06 -0.010400 -0.003461  \n",
       "2021-10-07  0.004299  0.016498  \n",
       "\n",
       "[5 rows x 505 columns]"
      ]
     },
     "execution_count": 14,
     "metadata": {},
     "output_type": "execute_result"
    }
   ],
   "source": [
    "stock_data_pct_change.head()"
   ]
  },
  {
   "cell_type": "code",
   "execution_count": 262,
   "metadata": {},
   "outputs": [],
   "source": [
    "stock_data_corr = stock_data_df.corr()"
   ]
  },
  {
   "cell_type": "code",
   "execution_count": 263,
   "metadata": {},
   "outputs": [
    {
     "data": {
      "text/plain": [
       "(505, 505)"
      ]
     },
     "execution_count": 263,
     "metadata": {},
     "output_type": "execute_result"
    }
   ],
   "source": [
    "stock_data_corr.shape"
   ]
  },
  {
   "cell_type": "code",
   "execution_count": 27,
   "metadata": {},
   "outputs": [],
   "source": [
    "stock_data_corr.to_csv(\"stock_data_corr.csv\", index=True)"
   ]
  },
  {
   "cell_type": "code",
   "execution_count": 357,
   "metadata": {},
   "outputs": [
    {
     "data": {
      "image/png": "[encoded data removed]",
      "text/plain": [
       "<Figure size 576x576 with 2 Axes>"
      ]
     },
     "metadata": {
      "needs_background": "light"
     },
     "output_type": "display_data"
    },
    {
     "name": "stdout",
     "output_type": "stream",
     "text": [
      "Time difference in creating heatmap (seconds): 0.032815166666666666\n"
     ]
    }
   ],
   "source": [
    "ts = datetime.now()\n",
    "plt.figure(figsize =(8,8))\n",
    "sns.heatmap(stock_data_corr.iloc[0:10, 0:10], annot=True, cmap='summer')\n",
    "plt.savefig(\"./plots/heatmap.png\")\n",
    "plt.show()\n",
    "tf = datetime.now()\n",
    "time_diff = (tf - ts).total_seconds()/60.0\n",
    "print(\"Time difference in creating heatmap (seconds): {}\".format(time_diff))"
   ]
  },
  {
   "cell_type": "code",
   "execution_count": 49,
   "metadata": {},
   "outputs": [],
   "source": [
    "from scipy.cluster.hierarchy import dendrogram, linkage\n",
    "from scipy.cluster.hierarchy import cophenet\n",
    "from scipy.spatial.distance import pdist\n",
    "import pylab"
   ]
  },
  {
   "cell_type": "code",
   "execution_count": 159,
   "metadata": {},
   "outputs": [
    {
     "ename": "ValueError",
     "evalue": "The condensed distance matrix must contain only finite values.",
     "output_type": "error",
     "traceback": [
      "\u001b[1;31m---------------------------------------------------------------------------\u001b[0m",
      "\u001b[1;31mValueError\u001b[0m                                Traceback (most recent call last)",
      "\u001b[1;32m<ipython-input-159-ac2efece87cb>\u001b[0m in \u001b[0;36m<module>\u001b[1;34m\u001b[0m\n\u001b[1;32m----> 1\u001b[1;33m \u001b[0mlinkage_z\u001b[0m \u001b[1;33m=\u001b[0m \u001b[0mlinkage\u001b[0m\u001b[1;33m(\u001b[0m\u001b[0mstock_data_corr\u001b[0m\u001b[1;33m,\u001b[0m \u001b[1;34m'weighted'\u001b[0m\u001b[1;33m)\u001b[0m\u001b[1;33m\u001b[0m\u001b[1;33m\u001b[0m\u001b[0m\n\u001b[0m",
      "\u001b[1;32mD:\\softwares\\anaconda3\\lib\\site-packages\\scipy\\cluster\\hierarchy.py\u001b[0m in \u001b[0;36mlinkage\u001b[1;34m(y, method, metric, optimal_ordering)\u001b[0m\n\u001b[0;32m   1055\u001b[0m \u001b[1;33m\u001b[0m\u001b[0m\n\u001b[0;32m   1056\u001b[0m     \u001b[1;32mif\u001b[0m \u001b[1;32mnot\u001b[0m \u001b[0mnp\u001b[0m\u001b[1;33m.\u001b[0m\u001b[0mall\u001b[0m\u001b[1;33m(\u001b[0m\u001b[0mnp\u001b[0m\u001b[1;33m.\u001b[0m\u001b[0misfinite\u001b[0m\u001b[1;33m(\u001b[0m\u001b[0my\u001b[0m\u001b[1;33m)\u001b[0m\u001b[1;33m)\u001b[0m\u001b[1;33m:\u001b[0m\u001b[1;33m\u001b[0m\u001b[1;33m\u001b[0m\u001b[0m\n\u001b[1;32m-> 1057\u001b[1;33m         raise ValueError(\"The condensed distance matrix must contain only \"\n\u001b[0m\u001b[0;32m   1058\u001b[0m                          \"finite values.\")\n\u001b[0;32m   1059\u001b[0m \u001b[1;33m\u001b[0m\u001b[0m\n",
      "\u001b[1;31mValueError\u001b[0m: The condensed distance matrix must contain only finite values."
     ]
    }
   ],
   "source": [
    "# linkage_z = linkage(stock_data_corr, 'weighted')"
   ]
  },
  {
   "cell_type": "code",
   "execution_count": 160,
   "metadata": {},
   "outputs": [],
   "source": [
    "from copy import deepcopy"
   ]
  },
  {
   "cell_type": "code",
   "execution_count": 161,
   "metadata": {},
   "outputs": [],
   "source": [
    "stc = deepcopy(stock_data_corr)"
   ]
  },
  {
   "cell_type": "code",
   "execution_count": 162,
   "metadata": {},
   "outputs": [],
   "source": [
    "stc = stc.fillna(0)"
   ]
  },
  {
   "cell_type": "code",
   "execution_count": 163,
   "metadata": {},
   "outputs": [],
   "source": [
    "z = linkage(stc, 'ward')"
   ]
  },
  {
   "cell_type": "code",
   "execution_count": 114,
   "metadata": {},
   "outputs": [
    {
     "data": {
      "text/plain": [
       "(12, 12)"
      ]
     },
     "execution_count": 114,
     "metadata": {},
     "output_type": "execute_result"
    }
   ],
   "source": [
    "stc.shape"
   ]
  },
  {
   "cell_type": "code",
   "execution_count": 164,
   "metadata": {},
   "outputs": [
    {
     "data": {
      "text/plain": [
       "(99, 4)"
      ]
     },
     "execution_count": 164,
     "metadata": {},
     "output_type": "execute_result"
    }
   ],
   "source": [
    "z.shape"
   ]
  },
  {
   "cell_type": "code",
   "execution_count": 165,
   "metadata": {},
   "outputs": [
    {
     "data": {
      "image/png": "[encoded data removed]",
      "text/plain": [
       "<Figure size 432x288 with 1 Axes>"
      ]
     },
     "metadata": {
      "needs_background": "light"
     },
     "output_type": "display_data"
    }
   ],
   "source": [
    "plt.title('Hierarchical Clustering Dendrogram')\n",
    "plt.xlabel('stock')\n",
    "plt.ylabel('distance')\n",
    "dendrogram(z, \n",
    "    leaf_rotation=90.,  # rotates the x axis labels\n",
    "    leaf_font_size=8.)  # font size for the x axis labels)\n",
    "plt.show()"
   ]
  },
  {
   "cell_type": "code",
   "execution_count": 56,
   "metadata": {},
   "outputs": [],
   "source": [
    "from sklearn.cluster import KMeans\n",
    "import numpy as np"
   ]
  },
  {
   "cell_type": "code",
   "execution_count": 182,
   "metadata": {},
   "outputs": [],
   "source": [
    "stock_data_corr = stock_data_corr.fillna(0)\n",
    "stock_data_np = stock_data_corr.to_numpy()"
   ]
  },
  {
   "cell_type": "code",
   "execution_count": 224,
   "metadata": {},
   "outputs": [],
   "source": [
    "# stock_data_corr"
   ]
  },
  {
   "cell_type": "code",
   "execution_count": 119,
   "metadata": {},
   "outputs": [
    {
     "data": {
      "text/plain": [
       "(12, 12)"
      ]
     },
     "execution_count": 119,
     "metadata": {},
     "output_type": "execute_result"
    }
   ],
   "source": [
    "stock_data_np.shape"
   ]
  },
  {
   "cell_type": "code",
   "execution_count": 235,
   "metadata": {},
   "outputs": [],
   "source": [
    "kmeans = KMeans(n_clusters=9).fit(stock_data_np)\n",
    "label = kmeans.labels_"
   ]
  },
  {
   "cell_type": "code",
   "execution_count": 169,
   "metadata": {},
   "outputs": [],
   "source": [
    "# stock_list = ['AAPL', 'ABBV', 'FANG', 'MSFT', 'GOOGL', 'DRI', 'DISH', 'MRNA', 'WAT', 'XRAY', 'ZION', 'CCI']\n",
    "stock_list = list(stock_data_corr.columns)"
   ]
  },
  {
   "cell_type": "code",
   "execution_count": 236,
   "metadata": {},
   "outputs": [
    {
     "name": "stdout",
     "output_type": "stream",
     "text": [
      "{3: ['A', 'ABC', 'AEP', 'AKAM', 'ATVI', 'AVY', 'AWK', 'AXP', 'BEN', 'BIO', 'BSX', 'CARR', 'CCI', 'CDW', 'CMA'], 5: ['AAL', 'ALGN', 'ALK', 'BA', 'BIIB', 'CAG', 'CCL'], 1: ['AAP', 'AAPL', 'ABT', 'ACN', 'ADBE', 'ADP', 'ADSK', 'AEE', 'AES', 'AIG', 'AJG', 'ALB', 'AMAT', 'AMCR', 'AMD', 'AME', 'AMP', 'AMT', 'ANET', 'ANSS', 'ANTM', 'AON', 'AOS', 'APD', 'APTV', 'ARE', 'AVB', 'AVGO', 'AZO', 'BAC', 'BBWI', 'BBY', 'BK', 'BLK', 'BR', 'CAT', 'CB', 'CBOE', 'CBRE', 'CDAY', 'CDNS', 'CHD', 'CHRW', 'CI', 'CINF'], 0: ['ABBV', 'CERN', 'CL'], 6: ['ABMD', 'ADI', 'ADM', 'AFL', 'AIZ', 'AMZN', 'APA', 'APH', 'ATO', 'BRO', 'BXP', 'CE'], 7: ['ALL', 'AMGN', 'BMY', 'CAH', 'CHTR'], 4: ['ALLE', 'BF.B', 'BKR', 'BLL', 'BRK.B', 'BWA'], 8: ['BAX', 'BDX', 'CFG'], 2: ['BKNG', 'C', 'CF', 'CLX']}\n"
     ]
    }
   ],
   "source": [
    "stock_cluster = dict()\n",
    "for i in range(len(label)):\n",
    "    if label[i] not in stock_cluster.keys():\n",
    "        stock_cluster[label[i]] = list()\n",
    "    stock_cluster[label[i]].append(stock_list[i])\n",
    "print(stock_cluster)"
   ]
  },
  {
   "cell_type": "code",
   "execution_count": 237,
   "metadata": {},
   "outputs": [
    {
     "name": "stdout",
     "output_type": "stream",
     "text": [
      "0: {'negative_penalty': 0, 'negative_penalty_count': 0, 'cluster_size': 3}\n",
      "1: {'negative_penalty': 0, 'negative_penalty_count': 0, 'cluster_size': 45}\n",
      "2: {'negative_penalty': 0, 'negative_penalty_count': 0, 'cluster_size': 4}\n",
      "3: {'negative_penalty': 0, 'negative_penalty_count': 0, 'cluster_size': 15}\n",
      "4: {'negative_penalty': -0.259928586000512, 'negative_penalty_count': 1, 'cluster_size': 6}\n",
      "5: {'negative_penalty': 0, 'negative_penalty_count': 0, 'cluster_size': 7}\n",
      "6: {'negative_penalty': 0, 'negative_penalty_count': 0, 'cluster_size': 12}\n",
      "7: {'negative_penalty': 0, 'negative_penalty_count': 0, 'cluster_size': 5}\n",
      "8: {'negative_penalty': 0, 'negative_penalty_count': 0, 'cluster_size': 3}\n"
     ]
    }
   ],
   "source": [
    "negative = dict()\n",
    "for cp, c in stock_cluster.items():\n",
    "    negative_penalty = 0\n",
    "    negative_penalty_count = 0\n",
    "    for i in range(len(c)):\n",
    "        for j in range(i + 1, len(c)):\n",
    "            if stock_data_corr.loc[c[i], c[j]] < 0:\n",
    "                negative_penalty += stock_data_corr.loc[c[i], c[j]]\n",
    "                negative_penalty_count += 1\n",
    "    negative[cp] = {'negative_penalty': negative_penalty, 'negative_penalty_count': negative_penalty_count, 'cluster_size': len(c)}\n",
    "for k,v in sorted(negative.items()):\n",
    "    print(\"{}: {}\".format(k, v))"
   ]
  },
  {
   "cell_type": "code",
   "execution_count": 245,
   "metadata": {},
   "outputs": [
    {
     "data": {
      "text/plain": [
       "(505, 505)"
      ]
     },
     "execution_count": 245,
     "metadata": {},
     "output_type": "execute_result"
    }
   ],
   "source": [
    "stock_data_corr.shape"
   ]
  },
  {
   "cell_type": "code",
   "execution_count": 264,
   "metadata": {},
   "outputs": [],
   "source": [
    "stock_data_corr = stock_data_corr.fillna(0)"
   ]
  },
  {
   "cell_type": "code",
   "execution_count": 265,
   "metadata": {},
   "outputs": [],
   "source": [
    "import math\n",
    "\n",
    "def dist(x):\n",
    "    return math.sqrt(2*(1-x))"
   ]
  },
  {
   "cell_type": "code",
   "execution_count": 266,
   "metadata": {},
   "outputs": [],
   "source": [
    "distance_mtx = stock_data_corr.applymap(lambda x: math.sqrt(2*(1 - x)))"
   ]
  },
  {
   "cell_type": "code",
   "execution_count": 268,
   "metadata": {},
   "outputs": [],
   "source": [
    "from sklearn.cluster import DBSCAN"
   ]
  },
  {
   "cell_type": "code",
   "execution_count": null,
   "metadata": {},
   "outputs": [],
   "source": [
    "# negative = dict()\n",
    "# for cp, c in stock_cluster.items():\n",
    "#     negative_penalty = 0\n",
    "#     negative_penalty_count = 0\n",
    "#     for i in range(len(c)):\n",
    "#         for j in range(i + 1, len(c)):\n",
    "#             if stock_data_corr.loc[c[i], c[j]] < 0:\n",
    "#                 negative_penalty += stock_data_corr.loc[c[i], c[j]]\n",
    "#                 negative_penalty_count += 1\n",
    "#     negative[cp] = {'negative_penalty': negative_penalty, 'negative_penalty_count': negative_penalty_count, 'cluster_size': len(c)}\n",
    "# for k,v in sorted(negative.items()):\n",
    "#     print(\"{}: {}\".format(k, v))"
   ]
  },
  {
   "cell_type": "code",
   "execution_count": 294,
   "metadata": {},
   "outputs": [
    {
     "name": "stdout",
     "output_type": "stream",
     "text": [
      "{0, 1, 2, 3, 4, 5, -1}\n"
     ]
    }
   ],
   "source": [
    "clusters_dbscan = DBSCAN(eps=1.8).fit(distance_mtx)\n",
    "lbl = set(clusters_dbscan.labels_)\n",
    "print(lbl)"
   ]
  },
  {
   "cell_type": "code",
   "execution_count": 295,
   "metadata": {},
   "outputs": [],
   "source": [
    "# clusters_dbscan.labels_"
   ]
  },
  {
   "cell_type": "code",
   "execution_count": 299,
   "metadata": {},
   "outputs": [],
   "source": [
    "import networkx as nx"
   ]
  },
  {
   "cell_type": "code",
   "execution_count": 301,
   "metadata": {},
   "outputs": [],
   "source": [
    "G = nx.from_numpy_matrix(stock_data_corr.to_numpy())"
   ]
  },
  {
   "cell_type": "code",
   "execution_count": 311,
   "metadata": {},
   "outputs": [
    {
     "data": {
      "image/png": "[encoded data removed]",
      "text/plain": [
       "<Figure size 432x288 with 1 Axes>"
      ]
     },
     "metadata": {},
     "output_type": "display_data"
    },
    {
     "data": {
      "text/plain": [
       "<Figure size 7200x7200 with 0 Axes>"
      ]
     },
     "metadata": {},
     "output_type": "display_data"
    }
   ],
   "source": [
    "nx.draw_spring(G)\n",
    "plt.figure(figsize=(100,100))\n",
    "plt.show()"
   ]
  },
  {
   "cell_type": "code",
   "execution_count": 308,
   "metadata": {},
   "outputs": [
    {
     "data": {
      "image/png": "[encoded data removed]",
      "text/plain": [
       "<Figure size 432x288 with 1 Axes>"
      ]
     },
     "metadata": {},
     "output_type": "display_data"
    }
   ],
   "source": [
    "nx.draw_circular(G)"
   ]
  },
  {
   "cell_type": "code",
   "execution_count": 312,
   "metadata": {},
   "outputs": [],
   "source": [
    "from pyvis.network import Network"
   ]
  },
  {
   "cell_type": "code",
   "execution_count": 314,
   "metadata": {},
   "outputs": [],
   "source": [
    "# net = Network(notebook=True)\n",
    "# net.from_nx(G)\n",
    "# net.show(\"Graph\")"
   ]
  },
  {
   "cell_type": "markdown",
   "metadata": {},
   "source": [
    "# Hierarchial Clustering using Correlation Matrix"
   ]
  },
  {
   "cell_type": "code",
   "execution_count": 344,
   "metadata": {},
   "outputs": [],
   "source": [
    "import pandas as pd\n",
    "import numpy as np\n",
    "import scipy.cluster.hierarchy as spc"
   ]
  },
  {
   "cell_type": "code",
   "execution_count": 345,
   "metadata": {},
   "outputs": [],
   "source": [
    "def process_data(n=50):\n",
    "    stock_data_df = pd.read_pickle(os.path.join(data_path, 'stock_data.pkl'))\n",
    "    stock_data_df = stock_data_df['Adj Close']\n",
    "\n",
    "    # calculate percentage change\n",
    "    stock_data_pct_change = stock_data_df.pct_change()\n",
    "    \n",
    "    # calculate correlation matrix using percentage change\n",
    "    stock_data_corr = stock_data_pct_change.corr()\n",
    "    \n",
    "    # adding mean in the NaN values\n",
    "    stock_data_corr.fillna(value=0, inplace=True)\n",
    "\n",
    "    # get correlation matrix of 100 stock data\n",
    "    stock_data_corr = stock_data_corr.iloc[0:n, 0:n]\n",
    "    return stock_data_corr"
   ]
  },
  {
   "cell_type": "code",
   "execution_count": 346,
   "metadata": {},
   "outputs": [],
   "source": [
    "def hierarchial_cluster(stock_corr):\n",
    "    pdist = spc.distance.pdist(stock_corr)\n",
    "    linkage = spc.linkage(pdist, method='complete')\n",
    "    idx = spc.fcluster(linkage, 0.5 * pdist.max(), 'distance')\n",
    "    return idx"
   ]
  },
  {
   "cell_type": "code",
   "execution_count": 347,
   "metadata": {},
   "outputs": [],
   "source": [
    "import numpy as np\n",
    "def main(n=50):\n",
    "    stock_corr_data = process_data(n)\n",
    "    # get the stock labels\n",
    "    stock_label = stock_corr_data\n",
    "    labels = hierarchial_cluster(stock_corr_data)\n",
    "    label_set = set(labels)\n",
    "    print(\"Number of clusters: {}\".format(len(label_set)))\n",
    "    for x in label_set:\n",
    "        print(\"Label: {}, Cluster size: {}\".format(x, np.count_nonzero(labels==x)))"
   ]
  },
  {
   "cell_type": "code",
   "execution_count": 348,
   "metadata": {},
   "outputs": [
    {
     "name": "stdout",
     "output_type": "stream",
     "text": [
      "Number of clusters: 17\n",
      "Label: 1, Cluster size: 2\n",
      "Label: 2, Cluster size: 18\n",
      "Label: 3, Cluster size: 10\n",
      "Label: 4, Cluster size: 24\n",
      "Label: 5, Cluster size: 35\n",
      "Label: 6, Cluster size: 3\n",
      "Label: 7, Cluster size: 17\n",
      "Label: 8, Cluster size: 9\n",
      "Label: 9, Cluster size: 10\n",
      "Label: 10, Cluster size: 12\n",
      "Label: 11, Cluster size: 37\n",
      "Label: 12, Cluster size: 26\n",
      "Label: 13, Cluster size: 136\n",
      "Label: 14, Cluster size: 32\n",
      "Label: 15, Cluster size: 24\n",
      "Label: 16, Cluster size: 17\n",
      "Label: 17, Cluster size: 88\n"
     ]
    }
   ],
   "source": [
    "main(500)"
   ]
  },
  {
   "cell_type": "code",
   "execution_count": null,
   "metadata": {},
   "outputs": [],
   "source": []
  }
 ],
 "metadata": {
  "kernelspec": {
   "display_name": "Python 3",
   "language": "python",
   "name": "python3"
  },
  "language_info": {
   "codemirror_mode": {
    "name": "ipython",
    "version": 3
   },
   "file_extension": ".py",
   "mimetype": "text/x-python",
   "name": "python",
   "nbconvert_exporter": "python",
   "pygments_lexer": "ipython3",
   "version": "3.8.3"
  }
 },
 "nbformat": 4,
 "nbformat_minor": 4
}
