{
 "cells": [
  {
   "cell_type": "code",
   "execution_count": 6,
   "metadata": {},
   "outputs": [],
   "source": [
    "import os\n",
    "import pandas as pd\n",
    "import numpy as np\n",
    "import random"
   ]
  },
  {
   "cell_type": "code",
   "execution_count": 51,
   "metadata": {},
   "outputs": [],
   "source": [
    "def process_data(n=50):\n",
    "    data_path = \"./data\"\n",
    "    stock_data_df = pd.read_pickle(os.path.join(data_path, 'stock_data_year.pkl'))\n",
    "    stock_data_df = (stock_data_df['Close'] - stock_data_df['Open'])/stock_data_df['Open']\n",
    "\n",
    "    # calculate percentage change\n",
    "#     stock_data_df = stock_data_df.pct_change()\n",
    "    \n",
    "    # calculate correlation matrix using percentage change\n",
    "    stock_data_corr = stock_data_df.corr()\n",
    "    \n",
    "    # adding mean in the NaN values\n",
    "    stock_data_corr.fillna(value=0, inplace=True)\n",
    "\n",
    "    # get correlation matrix of 100 stock data\n",
    "    stock_data_corr = stock_data_corr.iloc[0:n, 0:n]\n",
    "    return stock_data_corr"
   ]
  },
  {
   "cell_type": "code",
   "execution_count": 148,
   "metadata": {},
   "outputs": [],
   "source": [
    "def positive_edge_density(stock_corr, N):\n",
    "    v = N[0]\n",
    "    final = 0\n",
    "    for i in range(len(N)):\n",
    "        maxim = 0\n",
    "        for j in range(i+1, len(N)):\n",
    "            if stock_corr.iloc[i, j] > 0:\n",
    "                maxim += 1\n",
    "        if maxim > final:\n",
    "            final = maxim\n",
    "            v = N[i]\n",
    "    return v"
   ]
  },
  {
   "cell_type": "code",
   "execution_count": 149,
   "metadata": {},
   "outputs": [],
   "source": [
    "def correlation_clustering(stock_corr, N, e):\n",
    "#     v = N[random.randint(0, len(N)-1)]\n",
    "    v = positive_edge_density(stock_corr, N)\n",
    "    C = [v]\n",
    "    V = list()\n",
    "    for c in N:\n",
    "        if c != v:\n",
    "            if stock_corr.iloc[v, c] >= e:\n",
    "                C.append(c)\n",
    "            else:\n",
    "                V.append(c)\n",
    "    return C, V"
   ]
  },
  {
   "cell_type": "code",
   "execution_count": 153,
   "metadata": {},
   "outputs": [],
   "source": [
    "def main(n=50, e=0.2):\n",
    "    stock_corr_data = process_data(n)\n",
    "    cluster_index = 0\n",
    "    cluster = dict()\n",
    "    initial_set = [x for x in range(n)]\n",
    "    final_set = list()\n",
    "    size = 0\n",
    "    while len(final_set) < n:\n",
    "        if len(initial_set) == 0:\n",
    "            break\n",
    "        clust, initial_set = correlation_clustering(stock_corr_data, initial_set, e)\n",
    "        final_set.extend(clust)\n",
    "        cluster[cluster_index] = clust\n",
    "        size += len(clust)\n",
    "#         print(\"Cluster size: {}\".format(size))\n",
    "#         print(\"Cluster: {} is created\".format(cluster_index))\n",
    "        cluster_index += 1\n",
    "    for c,v in cluster.items():\n",
    "        print(\"{},{}: {}\".format(c, len(v), v))\n",
    "    return cluster"
   ]
  },
  {
   "cell_type": "code",
   "execution_count": 163,
   "metadata": {},
   "outputs": [
    {
     "name": "stdout",
     "output_type": "stream",
     "text": [
      "0,149: [4, 0, 5, 7, 8, 11, 12, 13, 17, 18, 19, 20, 25, 30, 31, 32, 35, 37, 39, 42, 47, 49, 52, 54, 55, 63, 66, 68, 69, 71, 72, 77, 88, 89, 95, 101, 107, 108, 109, 113, 116, 121, 123, 124, 128, 130, 141, 142, 150, 160, 162, 167, 173, 177, 178, 182, 187, 196, 197, 198, 200, 201, 216, 220, 223, 227, 229, 230, 232, 235, 238, 245, 249, 250, 252, 254, 255, 256, 266, 268, 271, 272, 276, 277, 278, 279, 280, 281, 288, 289, 297, 299, 300, 301, 304, 307, 308, 310, 312, 314, 319, 334, 339, 343, 349, 350, 360, 363, 364, 365, 366, 368, 373, 380, 385, 386, 391, 393, 398, 399, 401, 404, 406, 415, 416, 420, 426, 428, 429, 433, 435, 437, 442, 443, 444, 448, 452, 458, 460, 461, 462, 464, 465, 473, 476, 483, 486, 497, 498]\n",
      "1,129: [9, 3, 6, 10, 16, 21, 23, 27, 29, 33, 34, 36, 44, 46, 48, 50, 62, 67, 83, 85, 86, 87, 94, 102, 110, 112, 114, 115, 117, 118, 120, 122, 131, 133, 134, 139, 143, 144, 151, 153, 156, 158, 161, 163, 169, 171, 175, 179, 180, 184, 186, 194, 203, 204, 205, 207, 209, 217, 221, 222, 233, 234, 237, 239, 240, 241, 244, 248, 261, 264, 274, 275, 283, 284, 291, 292, 295, 296, 298, 305, 309, 313, 318, 320, 322, 323, 324, 326, 327, 329, 331, 332, 335, 341, 346, 348, 356, 357, 362, 371, 372, 377, 381, 383, 387, 388, 389, 400, 405, 414, 417, 419, 424, 432, 434, 436, 439, 440, 446, 449, 450, 451, 453, 471, 472, 478, 488, 491, 496]\n",
      "2,119: [22, 1, 24, 26, 40, 43, 51, 53, 56, 59, 64, 65, 73, 75, 78, 79, 80, 82, 84, 90, 91, 99, 103, 125, 127, 129, 135, 149, 154, 159, 174, 176, 181, 189, 192, 195, 202, 208, 210, 211, 212, 214, 215, 218, 224, 225, 231, 242, 243, 246, 251, 258, 260, 263, 270, 273, 286, 287, 290, 293, 302, 303, 306, 311, 316, 317, 321, 325, 333, 337, 338, 340, 344, 345, 351, 355, 358, 370, 374, 375, 378, 382, 384, 390, 394, 395, 396, 397, 402, 407, 410, 412, 413, 421, 423, 425, 427, 430, 431, 438, 441, 445, 454, 455, 456, 459, 463, 466, 468, 469, 470, 477, 480, 484, 487, 490, 493, 494, 499]\n",
      "3,36: [2, 28, 57, 76, 81, 93, 96, 105, 138, 140, 145, 157, 172, 183, 188, 206, 213, 219, 236, 253, 262, 267, 294, 342, 353, 359, 367, 369, 379, 403, 408, 409, 422, 447, 489, 492]\n",
      "4,40: [14, 15, 38, 45, 58, 92, 97, 98, 104, 106, 111, 126, 146, 147, 155, 164, 165, 166, 168, 170, 199, 226, 247, 259, 265, 269, 282, 330, 336, 347, 352, 354, 361, 376, 411, 418, 457, 481, 482, 495]\n",
      "5,1: [41]\n",
      "6,1: [60]\n",
      "7,1: [61]\n",
      "8,1: [70]\n",
      "9,11: [74, 100, 185, 190, 191, 193, 228, 285, 392, 474, 479]\n",
      "10,3: [119, 257, 475]\n",
      "11,2: [132, 148]\n",
      "12,3: [136, 137, 467]\n",
      "13,1: [152]\n",
      "14,1: [315]\n",
      "15,1: [328]\n",
      "16,1: [485]\n"
     ]
    }
   ],
   "source": [
    "cluster = main(500, 0.21)"
   ]
  },
  {
   "cell_type": "code",
   "execution_count": 161,
   "metadata": {},
   "outputs": [
    {
     "name": "stdout",
     "output_type": "stream",
     "text": [
      "Cluster: 0 has 1504 negative edges\n",
      "Cluster: 1 has 1050 negative edges\n",
      "Cluster: 2 has 906 negative edges\n",
      "Cluster: 3 has 62 negative edges\n",
      "Cluster: 4 has 78 negative edges\n",
      "Cluster: 5 has 0 negative edges\n",
      "Cluster: 6 has 0 negative edges\n",
      "Cluster: 7 has 0 negative edges\n",
      "Cluster: 8 has 0 negative edges\n",
      "Cluster: 9 has 4 negative edges\n",
      "Cluster: 10 has 0 negative edges\n",
      "Cluster: 11 has 0 negative edges\n",
      "Cluster: 12 has 0 negative edges\n",
      "Cluster: 13 has 0 negative edges\n",
      "Cluster: 14 has 0 negative edges\n",
      "Cluster: 15 has 0 negative edges\n",
      "Cluster: 16 has 0 negative edges\n",
      "Total negative edges within clusters: 3604\n",
      "\n",
      "Cluster: 0 has 9522 positive edges\n",
      "Cluster: 1 has 7206 positive edges\n",
      "Cluster: 2 has 6115 positive edges\n",
      "Cluster: 3 has 568 positive edges\n",
      "Cluster: 4 has 702 positive edges\n",
      "Cluster: 5 has 0 positive edges\n",
      "Cluster: 6 has 0 positive edges\n",
      "Cluster: 7 has 0 positive edges\n",
      "Cluster: 8 has 0 positive edges\n",
      "Cluster: 9 has 51 positive edges\n",
      "Cluster: 10 has 3 positive edges\n",
      "Cluster: 11 has 1 positive edges\n",
      "Cluster: 12 has 3 positive edges\n",
      "Cluster: 13 has 0 positive edges\n",
      "Cluster: 14 has 0 positive edges\n",
      "Cluster: 15 has 0 positive edges\n",
      "Cluster: 16 has 0 positive edges\n",
      "Total positive edges within clusters: 24171\n"
     ]
    }
   ],
   "source": [
    "stock_corr = process_data(500)\n",
    "# negative edges inside cluster\n",
    "negative_edge_tot = 0\n",
    "for c,v in cluster.items():\n",
    "    negative_edge = 0\n",
    "    for i in range(len(v)):\n",
    "        for j in range(i+1, len(v)):\n",
    "            if stock_corr.iloc[i,j] < 0:\n",
    "                negative_edge += 1\n",
    "    negative_edge_tot += negative_edge\n",
    "    print(\"Cluster: {} has {} negative edges\".format(c, negative_edge))\n",
    "print(\"Total negative edges within clusters: {}\".format(negative_edge_tot))\n",
    "print()\n",
    "positive_edge_tot = 0\n",
    "for c,v in cluster.items():\n",
    "    positive_edge = 0\n",
    "    for i in range(len(v)):\n",
    "        for j in range(i+1, len(v)):\n",
    "            if stock_corr.iloc[i,j] >= 0:\n",
    "                positive_edge += 1\n",
    "    positive_edge_tot += positive_edge\n",
    "    print(\"Cluster: {} has {} positive edges\".format(c, positive_edge))\n",
    "print(\"Total positive edges within clusters: {}\".format(positive_edge_tot))"
   ]
  },
  {
   "cell_type": "code",
   "execution_count": 155,
   "metadata": {},
   "outputs": [
    {
     "name": "stdout",
     "output_type": "stream",
     "text": [
      "Cluster: 0 has 2256 negative edges\n",
      "Cluster: 1 has 947 negative edges\n",
      "Cluster: 2 has 830 negative edges\n",
      "Cluster: 3 has 46 negative edges\n",
      "Cluster: 4 has 46 negative edges\n",
      "Cluster: 5 has 0 negative edges\n",
      "Cluster: 6 has 0 negative edges\n",
      "Cluster: 7 has 0 negative edges\n",
      "Cluster: 8 has 3 negative edges\n",
      "Cluster: 9 has 0 negative edges\n",
      "Cluster: 10 has 0 negative edges\n",
      "Cluster: 11 has 0 negative edges\n",
      "Cluster: 12 has 0 negative edges\n",
      "Cluster: 13 has 0 negative edges\n",
      "Cluster: 14 has 0 negative edges\n",
      "Total negative edges: 4128\n"
     ]
    }
   ],
   "source": [
    "stock_corr = process_data(500)\n",
    "# negative edges inside cluster\n",
    "negative_edge_tot = 0\n",
    "for c,v in cluster.items():\n",
    "    negative_edge = 0\n",
    "    for i in range(len(v)):\n",
    "        for j in range(i+1, len(v)):\n",
    "            if stock_corr.iloc[i,j] < 0:\n",
    "                negative_edge += 1\n",
    "    negative_edge_tot += negative_edge\n",
    "    print(\"Cluster: {} has {} negative edges\".format(c, negative_edge))\n",
    "print(\"Total negative edges within clusters: {}\".format(negative_edge_tot))\n",
    "\n",
    "positive_edge_tot = 0\n",
    "for c,v in cluster.items():\n",
    "    positive_edge = 0\n",
    "    for i in range(len(v)):\n",
    "        for j in range(i+1, len(v)):\n",
    "            if stock_corr.iloc[i,j] >= 0:\n",
    "                positive_edge += 1\n",
    "    positive_edge_tot += positive_edge\n",
    "    print(\"Cluster: {} has {} positive edges\".format(c, positive_edge))\n",
    "print(\"Total positive edges within clusters: {}\".format(positive_edge_tot))"
   ]
  },
  {
   "cell_type": "code",
   "execution_count": 147,
   "metadata": {},
   "outputs": [
    {
     "name": "stdout",
     "output_type": "stream",
     "text": [
      "Cluster: 0 has 19997 positive edges\n",
      "Cluster: 1 has 5902 positive edges\n",
      "Cluster: 2 has 1633 positive edges\n",
      "Cluster: 3 has 1363 positive edges\n",
      "Cluster: 4 has 346 positive edges\n",
      "Cluster: 5 has 0 positive edges\n",
      "Cluster: 6 has 6 positive edges\n",
      "Cluster: 7 has 1 positive edges\n",
      "Cluster: 8 has 0 positive edges\n",
      "Cluster: 9 has 6 positive edges\n",
      "Cluster: 10 has 0 positive edges\n",
      "Cluster: 11 has 1 positive edges\n",
      "Cluster: 12 has 3 positive edges\n",
      "Cluster: 13 has 0 positive edges\n",
      "Cluster: 14 has 0 positive edges\n",
      "Cluster: 15 has 0 positive edges\n",
      "Cluster: 16 has 0 positive edges\n",
      "Cluster: 17 has 0 positive edges\n",
      "Total positive edges: 29258\n"
     ]
    }
   ],
   "source": [
    "# stock_corr = process_data(500)\n",
    "# negative edges inside cluster\n",
    "positive_edge_tot = 0\n",
    "for c,v in cluster.items():\n",
    "    positive_edge = 0\n",
    "    for i in range(len(v)):\n",
    "        for j in range(i+1, len(v)):\n",
    "            if stock_corr.iloc[i,j] >= 0:\n",
    "                positive_edge += 1\n",
    "    positive_edge_tot += positive_edge\n",
    "    print(\"Cluster: {} has {} positive edges\".format(c, positive_edge))\n",
    "print(\"Total positive edges: {}\".format(positive_edge_tot))"
   ]
  },
  {
   "cell_type": "code",
   "execution_count": 143,
   "metadata": {},
   "outputs": [
    {
     "name": "stdout",
     "output_type": "stream",
     "text": [
      "Cluster: 0 has 21342 positive edges\n",
      "Cluster: 1 has 5220 positive edges\n",
      "Cluster: 2 has 6336 positive edges\n",
      "Cluster: 3 has 10 positive edges\n",
      "Cluster: 4 has 10 positive edges\n",
      "Cluster: 5 has 86 positive edges\n",
      "Cluster: 6 has 15 positive edges\n",
      "Cluster: 7 has 1 positive edges\n",
      "Cluster: 8 has 1 positive edges\n",
      "Cluster: 9 has 1 positive edges\n",
      "Cluster: 10 has 6 positive edges\n",
      "Cluster: 11 has 0 positive edges\n",
      "Cluster: 12 has 0 positive edges\n",
      "Cluster: 13 has 0 positive edges\n",
      "Cluster: 14 has 0 positive edges\n",
      "Cluster: 15 has 0 positive edges\n",
      "Cluster: 16 has 0 positive edges\n",
      "Cluster: 17 has 0 positive edges\n",
      "Total positive edges: 33028\n"
     ]
    }
   ],
   "source": [
    "# stock_corr = process_data(500) for 4893 neg edges\n",
    "# negative edges inside cluster\n",
    "positive_edge_tot = 0\n",
    "for c,v in cluster.items():\n",
    "    positive_edge = 0\n",
    "    for i in range(len(v)):\n",
    "        for j in range(i+1, len(v)):\n",
    "            if stock_corr.iloc[i,j] >= 0:\n",
    "                positive_edge += 1\n",
    "    positive_edge_tot += positive_edge\n",
    "    print(\"Cluster: {} has {} positive edges\".format(c, positive_edge))\n",
    "print(\"Total positive edges: {}\".format(positive_edge_tot))"
   ]
  },
  {
   "cell_type": "code",
   "execution_count": 14,
   "metadata": {},
   "outputs": [],
   "source": [
    "# q = [x for x in range(100)]"
   ]
  },
  {
   "cell_type": "code",
   "execution_count": 13,
   "metadata": {},
   "outputs": [],
   "source": [
    "# q"
   ]
  },
  {
   "cell_type": "code",
   "execution_count": 81,
   "metadata": {},
   "outputs": [],
   "source": [
    "stock_corr_data = process_data(500)"
   ]
  },
  {
   "cell_type": "code",
   "execution_count": 82,
   "metadata": {},
   "outputs": [
    {
     "data": {
      "text/html": [
       "<div>\n",
       "<style scoped>\n",
       "    .dataframe tbody tr th:only-of-type {\n",
       "        vertical-align: middle;\n",
       "    }\n",
       "\n",
       "    .dataframe tbody tr th {\n",
       "        vertical-align: top;\n",
       "    }\n",
       "\n",
       "    .dataframe thead th {\n",
       "        text-align: right;\n",
       "    }\n",
       "</style>\n",
       "<table border=\"1\" class=\"dataframe\">\n",
       "  <thead>\n",
       "    <tr style=\"text-align: right;\">\n",
       "      <th></th>\n",
       "      <th>A</th>\n",
       "      <th>AAL</th>\n",
       "      <th>AAP</th>\n",
       "      <th>AAPL</th>\n",
       "      <th>ABBV</th>\n",
       "      <th>ABC</th>\n",
       "      <th>ABMD</th>\n",
       "      <th>ABT</th>\n",
       "      <th>ACN</th>\n",
       "      <th>ADBE</th>\n",
       "    </tr>\n",
       "  </thead>\n",
       "  <tbody>\n",
       "    <tr>\n",
       "      <th>A</th>\n",
       "      <td>1.000000</td>\n",
       "      <td>0.006663</td>\n",
       "      <td>0.130670</td>\n",
       "      <td>0.342760</td>\n",
       "      <td>0.250176</td>\n",
       "      <td>0.220459</td>\n",
       "      <td>0.391927</td>\n",
       "      <td>0.463924</td>\n",
       "      <td>0.446363</td>\n",
       "      <td>0.468497</td>\n",
       "    </tr>\n",
       "    <tr>\n",
       "      <th>AAL</th>\n",
       "      <td>0.006663</td>\n",
       "      <td>1.000000</td>\n",
       "      <td>0.158015</td>\n",
       "      <td>0.199157</td>\n",
       "      <td>0.053026</td>\n",
       "      <td>0.037199</td>\n",
       "      <td>0.034374</td>\n",
       "      <td>-0.186851</td>\n",
       "      <td>0.096143</td>\n",
       "      <td>0.001931</td>\n",
       "    </tr>\n",
       "    <tr>\n",
       "      <th>AAP</th>\n",
       "      <td>0.130670</td>\n",
       "      <td>0.158015</td>\n",
       "      <td>1.000000</td>\n",
       "      <td>0.053449</td>\n",
       "      <td>0.196445</td>\n",
       "      <td>0.325001</td>\n",
       "      <td>-0.042457</td>\n",
       "      <td>-0.026233</td>\n",
       "      <td>0.195617</td>\n",
       "      <td>-0.018875</td>\n",
       "    </tr>\n",
       "    <tr>\n",
       "      <th>AAPL</th>\n",
       "      <td>0.342760</td>\n",
       "      <td>0.199157</td>\n",
       "      <td>0.053449</td>\n",
       "      <td>1.000000</td>\n",
       "      <td>0.176333</td>\n",
       "      <td>0.122382</td>\n",
       "      <td>0.308086</td>\n",
       "      <td>0.297052</td>\n",
       "      <td>0.426070</td>\n",
       "      <td>0.537062</td>\n",
       "    </tr>\n",
       "    <tr>\n",
       "      <th>ABBV</th>\n",
       "      <td>0.250176</td>\n",
       "      <td>0.053026</td>\n",
       "      <td>0.196445</td>\n",
       "      <td>0.176333</td>\n",
       "      <td>1.000000</td>\n",
       "      <td>0.316531</td>\n",
       "      <td>0.099112</td>\n",
       "      <td>0.229400</td>\n",
       "      <td>0.280580</td>\n",
       "      <td>0.158330</td>\n",
       "    </tr>\n",
       "    <tr>\n",
       "      <th>ABC</th>\n",
       "      <td>0.220459</td>\n",
       "      <td>0.037199</td>\n",
       "      <td>0.325001</td>\n",
       "      <td>0.122382</td>\n",
       "      <td>0.316531</td>\n",
       "      <td>1.000000</td>\n",
       "      <td>0.013330</td>\n",
       "      <td>0.159988</td>\n",
       "      <td>0.290899</td>\n",
       "      <td>0.028978</td>\n",
       "    </tr>\n",
       "    <tr>\n",
       "      <th>ABMD</th>\n",
       "      <td>0.391927</td>\n",
       "      <td>0.034374</td>\n",
       "      <td>-0.042457</td>\n",
       "      <td>0.308086</td>\n",
       "      <td>0.099112</td>\n",
       "      <td>0.013330</td>\n",
       "      <td>1.000000</td>\n",
       "      <td>0.283596</td>\n",
       "      <td>0.234057</td>\n",
       "      <td>0.368192</td>\n",
       "    </tr>\n",
       "    <tr>\n",
       "      <th>ABT</th>\n",
       "      <td>0.463924</td>\n",
       "      <td>-0.186851</td>\n",
       "      <td>-0.026233</td>\n",
       "      <td>0.297052</td>\n",
       "      <td>0.229400</td>\n",
       "      <td>0.159988</td>\n",
       "      <td>0.283596</td>\n",
       "      <td>1.000000</td>\n",
       "      <td>0.396463</td>\n",
       "      <td>0.399075</td>\n",
       "    </tr>\n",
       "    <tr>\n",
       "      <th>ACN</th>\n",
       "      <td>0.446363</td>\n",
       "      <td>0.096143</td>\n",
       "      <td>0.195617</td>\n",
       "      <td>0.426070</td>\n",
       "      <td>0.280580</td>\n",
       "      <td>0.290899</td>\n",
       "      <td>0.234057</td>\n",
       "      <td>0.396463</td>\n",
       "      <td>1.000000</td>\n",
       "      <td>0.539905</td>\n",
       "    </tr>\n",
       "    <tr>\n",
       "      <th>ADBE</th>\n",
       "      <td>0.468497</td>\n",
       "      <td>0.001931</td>\n",
       "      <td>-0.018875</td>\n",
       "      <td>0.537062</td>\n",
       "      <td>0.158330</td>\n",
       "      <td>0.028978</td>\n",
       "      <td>0.368192</td>\n",
       "      <td>0.399075</td>\n",
       "      <td>0.539905</td>\n",
       "      <td>1.000000</td>\n",
       "    </tr>\n",
       "  </tbody>\n",
       "</table>\n",
       "</div>"
      ],
      "text/plain": [
       "             A       AAL       AAP      AAPL      ABBV       ABC      ABMD  \\\n",
       "A     1.000000  0.006663  0.130670  0.342760  0.250176  0.220459  0.391927   \n",
       "AAL   0.006663  1.000000  0.158015  0.199157  0.053026  0.037199  0.034374   \n",
       "AAP   0.130670  0.158015  1.000000  0.053449  0.196445  0.325001 -0.042457   \n",
       "AAPL  0.342760  0.199157  0.053449  1.000000  0.176333  0.122382  0.308086   \n",
       "ABBV  0.250176  0.053026  0.196445  0.176333  1.000000  0.316531  0.099112   \n",
       "ABC   0.220459  0.037199  0.325001  0.122382  0.316531  1.000000  0.013330   \n",
       "ABMD  0.391927  0.034374 -0.042457  0.308086  0.099112  0.013330  1.000000   \n",
       "ABT   0.463924 -0.186851 -0.026233  0.297052  0.229400  0.159988  0.283596   \n",
       "ACN   0.446363  0.096143  0.195617  0.426070  0.280580  0.290899  0.234057   \n",
       "ADBE  0.468497  0.001931 -0.018875  0.537062  0.158330  0.028978  0.368192   \n",
       "\n",
       "           ABT       ACN      ADBE  \n",
       "A     0.463924  0.446363  0.468497  \n",
       "AAL  -0.186851  0.096143  0.001931  \n",
       "AAP  -0.026233  0.195617 -0.018875  \n",
       "AAPL  0.297052  0.426070  0.537062  \n",
       "ABBV  0.229400  0.280580  0.158330  \n",
       "ABC   0.159988  0.290899  0.028978  \n",
       "ABMD  0.283596  0.234057  0.368192  \n",
       "ABT   1.000000  0.396463  0.399075  \n",
       "ACN   0.396463  1.000000  0.539905  \n",
       "ADBE  0.399075  0.539905  1.000000  "
      ]
     },
     "execution_count": 82,
     "metadata": {},
     "output_type": "execute_result"
    }
   ],
   "source": [
    "stock_corr_data.iloc[:10,:10]"
   ]
  },
  {
   "cell_type": "code",
   "execution_count": 85,
   "metadata": {},
   "outputs": [
    {
     "name": "stdout",
     "output_type": "stream",
     "text": [
      "Negative correlated value count: 15733\n",
      "Positive correlated value count: 109267\n"
     ]
    }
   ],
   "source": [
    "neg_corr = (stock_corr_data < 0).sum().sum()\n",
    "pos_corr = (stock_corr_data >= 0).sum().sum()\n",
    "print(\"Negative correlated value count: {}\\nPositive correlated value count: {}\".format(neg_corr//2, pos_corr//2))"
   ]
  },
  {
   "cell_type": "code",
   "execution_count": 84,
   "metadata": {},
   "outputs": [
    {
     "data": {
      "text/plain": [
       "250000"
      ]
     },
     "execution_count": 84,
     "metadata": {},
     "output_type": "execute_result"
    }
   ],
   "source": [
    "neg_corr + pos_corr"
   ]
  }
 ],
 "metadata": {
  "kernelspec": {
   "display_name": "Python 3",
   "language": "python",
   "name": "python3"
  },
  "language_info": {
   "codemirror_mode": {
    "name": "ipython",
    "version": 3
   },
   "file_extension": ".py",
   "mimetype": "text/x-python",
   "name": "python",
   "nbconvert_exporter": "python",
   "pygments_lexer": "ipython3",
   "version": "3.8.3"
  }
 },
 "nbformat": 4,
 "nbformat_minor": 4
}
