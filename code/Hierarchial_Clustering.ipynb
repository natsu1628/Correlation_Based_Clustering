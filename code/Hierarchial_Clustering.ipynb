{
 "cells": [
  {
   "cell_type": "code",
   "execution_count": 6,
   "metadata": {},
   "outputs": [],
   "source": [
    "import os\n",
    "import pandas as pd\n",
    "import numpy as np\n",
    "import scipy.cluster.hierarchy as spc"
   ]
  },
  {
   "cell_type": "code",
   "execution_count": 26,
   "metadata": {},
   "outputs": [],
   "source": [
    "def process_data(n=50):\n",
    "    data_path = \"./data\"\n",
    "    stock_data_df = pd.read_pickle(os.path.join(data_path, 'stock_data_3year.pkl'))\n",
    "    stock_data_df = (stock_data_df['Close'] - stock_data_df['Open'])/stock_data_df['Open']\n",
    "\n",
    "    # calculate percentage change\n",
    "#     stock_data_df = stock_data_df.pct_change()\n",
    "    \n",
    "    # calculate correlation matrix using percentage change\n",
    "    stock_data_corr = stock_data_df.corr()\n",
    "    \n",
    "    # adding mean in the NaN values\n",
    "    stock_data_corr.fillna(value=0, inplace=True)\n",
    "\n",
    "    # get correlation matrix of 100 stock data\n",
    "    stock_data_corr = stock_data_corr.iloc[0:n, 0:n]\n",
    "    return stock_data_corr"
   ]
  },
  {
   "cell_type": "code",
   "execution_count": 9,
   "metadata": {},
   "outputs": [],
   "source": [
    "def hierarchial_cluster(stock_corr):\n",
    "    pdist = spc.distance.pdist(stock_corr)\n",
    "    linkage = spc.linkage(pdist, method='complete')\n",
    "    idx = spc.fcluster(linkage, 0.5 * pdist.max(), 'distance')\n",
    "    return idx"
   ]
  },
  {
   "cell_type": "code",
   "execution_count": 31,
   "metadata": {},
   "outputs": [],
   "source": [
    "import numpy as np\n",
    "def main(n=50):\n",
    "    stock_corr_data = process_data(n)\n",
    "    # get the stock labels\n",
    "    # stock_label = stock_corr_data\n",
    "    labels = hierarchial_cluster(stock_corr_data)\n",
    "    label_set = set(labels)\n",
    "    print(\"Number of clusters: {}\".format(len(label_set)))\n",
    "    for x in label_set:\n",
    "        print(\"Label: {}, Cluster size: {}\".format(x, np.count_nonzero(labels==x)))\n",
    "    return label_set, labels"
   ]
  },
  {
   "cell_type": "code",
   "execution_count": 44,
   "metadata": {},
   "outputs": [],
   "source": [
    "# using pct_change\n",
    "# main(500)"
   ]
  },
  {
   "cell_type": "code",
   "execution_count": 45,
   "metadata": {},
   "outputs": [],
   "source": [
    "# without pct_change\n",
    "# main(500)"
   ]
  },
  {
   "cell_type": "code",
   "execution_count": 46,
   "metadata": {},
   "outputs": [
    {
     "name": "stdout",
     "output_type": "stream",
     "text": [
      "Number of clusters: 9\n",
      "Label: 1, Cluster size: 72\n",
      "Label: 2, Cluster size: 89\n",
      "Label: 3, Cluster size: 61\n",
      "Label: 4, Cluster size: 78\n",
      "Label: 5, Cluster size: 6\n",
      "Label: 6, Cluster size: 41\n",
      "Label: 7, Cluster size: 36\n",
      "Label: 8, Cluster size: 25\n",
      "Label: 9, Cluster size: 92\n"
     ]
    }
   ],
   "source": [
    "# without pct_change, 3 years data\n",
    "label_set, labels = main(500)"
   ]
  },
  {
   "cell_type": "code",
   "execution_count": 47,
   "metadata": {},
   "outputs": [],
   "source": [
    "cluster = dict()\n",
    "labels_list = list(labels)\n",
    "for x in label_set:\n",
    "    c_set = list()\n",
    "    for i in range(len(labels_list)):\n",
    "        if labels_list[i] == x:\n",
    "            c_set.append(i)\n",
    "    cluster[x] = c_set"
   ]
  },
  {
   "cell_type": "code",
   "execution_count": 39,
   "metadata": {},
   "outputs": [],
   "source": [
    "# cluster"
   ]
  },
  {
   "cell_type": "code",
   "execution_count": 48,
   "metadata": {},
   "outputs": [
    {
     "name": "stdout",
     "output_type": "stream",
     "text": [
      "Cluster: 1 has 25 negative edges\n",
      "Cluster: 2 has 47 negative edges\n",
      "Cluster: 3 has 25 negative edges\n",
      "Cluster: 4 has 28 negative edges\n",
      "Cluster: 5 has 0 negative edges\n",
      "Cluster: 6 has 8 negative edges\n",
      "Cluster: 7 has 4 negative edges\n",
      "Cluster: 8 has 2 negative edges\n",
      "Cluster: 9 has 48 negative edges\n",
      "Total negative edges: 187\n"
     ]
    }
   ],
   "source": [
    "stock_corr = process_data(500)\n",
    "# negative edges inside cluster\n",
    "negative_edge_tot = 0\n",
    "for c,v in cluster.items():\n",
    "    negative_edge = 0\n",
    "    for i in range(len(v)):\n",
    "        for j in range(i+1, len(v)):\n",
    "            if stock_corr.iloc[i,j] < 0:\n",
    "                negative_edge += 1\n",
    "    negative_edge_tot += negative_edge\n",
    "    print(\"Cluster: {} has {} negative edges\".format(c, negative_edge))\n",
    "print(\"Total negative edges: {}\".format(negative_edge_tot))"
   ]
  },
  {
   "cell_type": "code",
   "execution_count": 49,
   "metadata": {},
   "outputs": [
    {
     "name": "stdout",
     "output_type": "stream",
     "text": [
      "Cluster: 1 has 2531 positive edges\n",
      "Cluster: 2 has 3869 positive edges\n",
      "Cluster: 3 has 1805 positive edges\n",
      "Cluster: 4 has 2975 positive edges\n",
      "Cluster: 5 has 15 positive edges\n",
      "Cluster: 6 has 812 positive edges\n",
      "Cluster: 7 has 626 positive edges\n",
      "Cluster: 8 has 298 positive edges\n",
      "Cluster: 9 has 4138 positive edges\n",
      "Total positive edges: 17069\n"
     ]
    }
   ],
   "source": [
    "stock_corr = process_data(500)\n",
    "# negative edges inside cluster\n",
    "positive_edge_tot = 0\n",
    "for c,v in cluster.items():\n",
    "    positive_edge = 0\n",
    "    for i in range(len(v)):\n",
    "        for j in range(i+1, len(v)):\n",
    "            if stock_corr.iloc[i,j] >= 0:\n",
    "                positive_edge += 1\n",
    "    positive_edge_tot += positive_edge\n",
    "    print(\"Cluster: {} has {} positive edges\".format(c, positive_edge))\n",
    "print(\"Total positive edges: {}\".format(positive_edge_tot))"
   ]
  }
 ],
 "metadata": {
  "kernelspec": {
   "display_name": "Python 3",
   "language": "python",
   "name": "python3"
  },
  "language_info": {
   "codemirror_mode": {
    "name": "ipython",
    "version": 3
   },
   "file_extension": ".py",
   "mimetype": "text/x-python",
   "name": "python",
   "nbconvert_exporter": "python",
   "pygments_lexer": "ipython3",
   "version": "3.8.3"
  }
 },
 "nbformat": 4,
 "nbformat_minor": 4
}
